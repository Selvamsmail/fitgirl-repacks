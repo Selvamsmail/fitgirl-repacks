{
 "cells": [
  {
   "cell_type": "code",
   "execution_count": 30,
   "id": "b949797b",
   "metadata": {},
   "outputs": [],
   "source": [
    "import requests\n",
    "from bs4 import BeautifulSoup\n",
    "import pandas as pd"
   ]
  },
  {
   "cell_type": "code",
   "execution_count": 24,
   "id": "f950b701",
   "metadata": {},
   "outputs": [],
   "source": [
    "def urlparser(url):\n",
    "    response = requests.get(url)\n",
    "    soup = BeautifulSoup(response.text,'html.parser')\n",
    "    datalis = []\n",
    "    for i in soup.select('.entry-content > .lcp_catlist li'):\n",
    "        data = {}\n",
    "        data['link'] = i.find('a')['href']\n",
    "        data['title'] = i.text\n",
    "        datalis.append(data)\n",
    "    nextpage = soup.select_one('.entry-content .lcp_nextlink') \n",
    "    if nextpage and nextpage.get('href'):\n",
    "        next_url = nextpage['href']\n",
    "        datalis.extend(urlparser(next_url))  # recursively add more items\n",
    "    \n",
    "    return datalis"
   ]
  },
  {
   "cell_type": "code",
   "execution_count": 25,
   "id": "4894413c",
   "metadata": {},
   "outputs": [],
   "source": [
    "data = urlparser('https://fitgirl-repacks.site/all-my-repacks-a-z/?lcp_page0=2#lcp_instance_0')"
   ]
  },
  {
   "cell_type": "code",
   "execution_count": 33,
   "id": "ff4d82de",
   "metadata": {},
   "outputs": [],
   "source": [
    "pd.DataFrame(data).to_excel('Fitgirl-repacks.xlsx',index = False)"
   ]
  }
 ],
 "metadata": {
  "kernelspec": {
   "display_name": "repacks",
   "language": "python",
   "name": "python3"
  },
  "language_info": {
   "codemirror_mode": {
    "name": "ipython",
    "version": 3
   },
   "file_extension": ".py",
   "mimetype": "text/x-python",
   "name": "python",
   "nbconvert_exporter": "python",
   "pygments_lexer": "ipython3",
   "version": "3.12.3"
  }
 },
 "nbformat": 4,
 "nbformat_minor": 5
}
